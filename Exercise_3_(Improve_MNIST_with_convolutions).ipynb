{
  "nbformat": 4,
  "nbformat_minor": 0,
  "metadata": {
    "colab": {
      "name": "Exercise 3 (Improve MNIST with convolutions)",
      "provenance": [],
      "authorship_tag": "ABX9TyNtO95Sw/v7z4NEWCtsCzzW",
      "include_colab_link": true
    },
    "kernelspec": {
      "name": "python3",
      "display_name": "Python 3"
    },
    "accelerator": "GPU"
  },
  "cells": [
    {
      "cell_type": "markdown",
      "metadata": {
        "id": "view-in-github",
        "colab_type": "text"
      },
      "source": [
        "<a href=\"https://colab.research.google.com/github/hritikvalluvar/Introduction-to-TensorFlow-for-Artificial-Intelligence-Machine-Learning-and-Deep-Learning/blob/master/Exercise_3_(Improve_MNIST_with_convolutions).ipynb\" target=\"_parent\"><img src=\"https://colab.research.google.com/assets/colab-badge.svg\" alt=\"Open In Colab\"/></a>"
      ]
    },
    {
      "cell_type": "markdown",
      "metadata": {
        "id": "wnDATPdV-Bqq",
        "colab_type": "text"
      },
      "source": [
        "# **Problem**\n",
        "Improve MNIST to 99.8% accuracy or more using only a single convolutional layer and a single MaxPooling 2D. You should stop training once the accuracy goes above this amount. It should happen in less than 20 epochs, so it's ok to hard code the number of epochs for training, but your training must end once it hits the above metric. If it doesn't, then you'll need to redesign your layers.\n",
        "\n",
        "When 99.8% accuracy has been hit, you should print out the string \"Reached 99.8% accuracy so cancelling training!\""
      ]
    },
    {
      "cell_type": "markdown",
      "metadata": {
        "id": "_cSJEipH-UCr",
        "colab_type": "text"
      },
      "source": [
        "# **Import TensorFlow**"
      ]
    },
    {
      "cell_type": "code",
      "metadata": {
        "id": "-xCmyiyo87Gp",
        "colab_type": "code",
        "colab": {}
      },
      "source": [
        "import tensorflow as tf"
      ],
      "execution_count": 5,
      "outputs": []
    },
    {
      "cell_type": "markdown",
      "metadata": {
        "id": "zJZtCD3l-ckJ",
        "colab_type": "text"
      },
      "source": [
        "# **train_mnist_convo Function**"
      ]
    },
    {
      "cell_type": "code",
      "metadata": {
        "id": "_vV3SV1O9idw",
        "colab_type": "code",
        "colab": {}
      },
      "source": [
        "def train_mnist_conv():\n",
        "    # Setting callack for 99.8% accuracy\n",
        "    class mycallback(tf.keras.callbacks.Callback):\n",
        "        def on_epoch_end(self,epoch,logs={}):\n",
        "            if(logs.get('acc')>0.998):\n",
        "                print('cancelling training')\n",
        "                self.model.stop_training=True\n",
        "    \n",
        "    # Providing data\n",
        "    mnist = tf.keras.datasets.mnist\n",
        "    (training_images, training_labels), (test_images, test_labels) = mnist.load_data()\n",
        "\n",
        "    # Normalizing\n",
        "    training_images = training_images.reshape(60000,28,28,1)\n",
        "    training_images = training_images/255.0\n",
        "    test_images = test_images.reshape(10000,28,28,1)\n",
        "    test_images = test_images/255.0\n",
        "    \n",
        "    callbacks = mycallback()\n",
        "\n",
        "     # Creating Neural Network which has 2 layers, single convolution layer, and single Maxpooling 2D\n",
        "    model = tf.keras.models.Sequential([\n",
        "            tf.keras.layers.Conv2D(64,(3,3),activation='relu',input_shape = (28,28,1)),\n",
        "            tf.keras.layers.MaxPooling2D(2,2),\n",
        "            tf.keras.layers.Flatten(),\n",
        "            tf.keras.layers.Dense(512, activation='relu'),\n",
        "            tf.keras.layers.Dense(10, activation='softmax')\n",
        "            \n",
        "    ])\n",
        "\n",
        "    # Compiling our Neural Network\n",
        "    model.compile(optimizer='adam', loss='sparse_categorical_crossentropy', metrics=['acc'])\n",
        "   \n",
        "    # Model Fitting \n",
        "    history = model.fit(\n",
        "        training_images,training_labels,epochs = 20,callbacks=[callbacks]\n",
        "    )\n",
        "    \n",
        "    return history.epoch, history.history['acc'][-1]"
      ],
      "execution_count": 6,
      "outputs": []
    },
    {
      "cell_type": "markdown",
      "metadata": {
        "id": "LFIbS2tJ_Bcs",
        "colab_type": "text"
      },
      "source": [
        "# **Calling train_minst Function**\n"
      ]
    },
    {
      "cell_type": "code",
      "metadata": {
        "id": "LZRvpIPb9jEr",
        "colab_type": "code",
        "colab": {}
      },
      "source": [
        "train_mnist_conv()"
      ],
      "execution_count": null,
      "outputs": []
    }
  ]
}