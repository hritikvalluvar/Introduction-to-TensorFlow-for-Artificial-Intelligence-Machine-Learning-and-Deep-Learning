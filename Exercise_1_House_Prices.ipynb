{
  "nbformat": 4,
  "nbformat_minor": 0,
  "metadata": {
    "colab": {
      "name": "Exercise_1_House_Prices.ipynb",
      "provenance": [],
      "authorship_tag": "ABX9TyNvTRw+kIPlIksYiXbpFOzN",
      "include_colab_link": true
    },
    "kernelspec": {
      "name": "python3",
      "display_name": "Python 3"
    },
    "accelerator": "GPU"
  },
  "cells": [
    {
      "cell_type": "markdown",
      "metadata": {
        "id": "view-in-github",
        "colab_type": "text"
      },
      "source": [
        "<a href=\"https://colab.research.google.com/github/hritikvalluvar/Introduction-to-TensorFlow-for-Artificial-Intelligence-Machine-Learning-and-Deep-Learning/blob/master/Exercise_1_House_Prices.ipynb\" target=\"_parent\"><img src=\"https://colab.research.google.com/assets/colab-badge.svg\" alt=\"Open In Colab\"/></a>"
      ]
    },
    {
      "cell_type": "markdown",
      "metadata": {
        "id": "fXCCrlU39cnn",
        "colab_type": "text"
      },
      "source": [
        "# **Problem**\n",
        "In this exercise you'll try to build a neural network that predicts the price of a house according to a simple formula.\n",
        "\n",
        "So, imagine if house pricing was as easy as a house costs 50k + 50k per bedroom, so that a 1 bedroom house costs 100k, a 2 bedroom house costs 150k etc.\n",
        "\n",
        "How would you create a neural network that learns this relationship so that it would predict a 7 bedroom house as costing close to 400k etc.\n",
        "\n",
        "Hint: Your network might work better if you scale the house price down. You don't have to give the answer 400...it might be better to create something that predicts the number 4, and then your answer is in the 'hundreds of thousands' etc."
      ]
    },
    {
      "cell_type": "markdown",
      "metadata": {
        "id": "_NTzDx1wafOQ",
        "colab_type": "text"
      },
      "source": [
        "# **Importing Libraries**\n"
      ]
    },
    {
      "cell_type": "code",
      "metadata": {
        "id": "oiYij4ecZnRV",
        "colab_type": "code",
        "colab": {}
      },
      "source": [
        "import tensorflow as tf\n",
        "import numpy as np\n",
        "from tensorflow import keras"
      ],
      "execution_count": 10,
      "outputs": []
    },
    {
      "cell_type": "markdown",
      "metadata": {
        "id": "8z8IJ7VH3Qwl",
        "colab_type": "text"
      },
      "source": [
        "# **House Model Function**\n",
        "This function  provides data, creates a simple neural network, compiles the network and train the network. As a result it return the the predicted value.\n"
      ]
    },
    {
      "cell_type": "code",
      "metadata": {
        "id": "GFIeWStE3R6q",
        "colab_type": "code",
        "colab": {}
      },
      "source": [
        "# GRADED FUNCTION: house_model\n",
        "def house_model(y_new):\n",
        "\n",
        "    #Providing Data\n",
        "    xs = np.array([1.0, 2.0, 3.0, 4.0, 5.0, 6.0, 7.0, 8.0, 9.0], dtype=float) #Number of bedrooms              \n",
        "    ys = np.array([1.0, 1.5, 2.0, 2.5, 3.0, 3.5, 4.0, 4.5, 5.0], dtype=float) #Cost (1 unit = 100k)\n",
        "\n",
        "    #Creating simplest neural network. It has 1 layer, and that layer has 1 neuron, and the input shape to it is just 1 value.\n",
        "    model = tf.keras.Sequential([keras.layers.Dense(units=1, input_shape=[1])])\n",
        "\n",
        "    #Compling our nerual network\n",
        "    model.compile(optimizer='sgd', loss='mean_squared_error')\n",
        "\n",
        "    #Training the neural network\n",
        "    model.fit(xs, ys, epochs=200)\n",
        "    \n",
        "    return model.predict(y_new)[0]"
      ],
      "execution_count": 11,
      "outputs": []
    },
    {
      "cell_type": "markdown",
      "metadata": {
        "id": "ijl5FizV6itx",
        "colab_type": "text"
      },
      "source": [
        "# **Predicting the cost of a house**\n",
        "On the basis of number of bedrooms"
      ]
    },
    {
      "cell_type": "code",
      "metadata": {
        "id": "3OjvH_Nf6jQo",
        "colab_type": "code",
        "colab": {}
      },
      "source": [
        "prediction = house_model([7.0])\n",
        "print(prediction)"
      ],
      "execution_count": null,
      "outputs": []
    }
  ]
}